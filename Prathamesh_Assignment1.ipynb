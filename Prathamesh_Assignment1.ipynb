{
  "nbformat": 4,
  "nbformat_minor": 0,
  "metadata": {
    "colab": {
      "provenance": [],
      "include_colab_link": true
    },
    "kernelspec": {
      "name": "python3",
      "display_name": "Python 3"
    },
    "language_info": {
      "name": "python"
    }
  },
  "cells": [
    {
      "cell_type": "markdown",
      "metadata": {
        "id": "view-in-github",
        "colab_type": "text"
      },
      "source": [
        "<a href=\"https://colab.research.google.com/github/Prathamesh259/Prathamesh259/blob/main/Prathamesh_Assignment1.ipynb\" target=\"_parent\"><img src=\"https://colab.research.google.com/assets/colab-badge.svg\" alt=\"Open In Colab\"/></a>"
      ]
    },
    {
      "source": [
        "# To find the downstream depth of open channel\n",
        "# Given Data\n",
        "Q= float (input(\"Enter the value of Discharge:4.8\"))\n",
        "T= int(input(\"Enter the value of top width:2\"))\n",
        "g=float(input(\"Enter the value of acceleration due to Gravity:9.81\"))\n",
        "y1 = float(input(\"enter the value of upstream depth:1.6\"))\n",
        "Z= float(input(\"Enter the Value of hump:0.1 \"))\n",
        "# Dicharge per meter width\n",
        "q=Q/T\n",
        "print (\"The value of discharge per meter width is:\", q)\n",
        "# Area Calculation\n",
        "A1= T*y1\n",
        "print (\"The value of upstream area is:\", A1)\n",
        "# Calculation of Froude Number\n",
        "Fr1 = (Q*Q*T)/(g*A1* A1 *A1) * 0.5\n",
        "print (\"The value of Froude number is:\", Fr1)\n",
        "if Fr1>1:\n",
        "    pass # Replace with desired code\n",
        "    print(\"The flow is Super Critical Flow\")\n",
        "else:\n",
        "    print(\"The flow is Sub Critical Flow\")\n",
        "#Upstream Energy\n",
        "E1 = y1 + (Q*Q)/(2 *g*A1 *A1)\n",
        "print (\"The value of Energy at initial Section is:\", E1)\n",
        "# Downstream Energy\n",
        "E2 = E1 -Z\n",
        "print (\"The value of downstream Energy E2 is:\", E2)\n",
        "# Critical Depth\n",
        "# You need to define the values for 'a' and 'e' based on your problem.\n",
        "# For example:\n",
        "a = 1.0  # Replace with the actual value of 'a'\n",
        "e = 1.0  # Replace with the actual value of 'e'\n",
        "yc = (q*a/e)**0.3333\n",
        "print (\"The Value of critical depth is:\", yc)\n",
        "# Note: In Python, a tuple is defined using parenthesis. Using a comma creates a tuple.\n",
        "# To perform multiplication, use the '*' operator.\n",
        "Ec = 1.5*yc\n",
        "print (\"The value of critical Energy is\", Ec)\n",
        "if Ec>E2:\n",
        "    print (\"Chocking Conditlon\")\n",
        "else:\n",
        "    print (\"SAFE\")\n",
        "# Calculation of Zmax\n",
        "# You need to define the value for 'El' based on your problem.\n",
        "# For example:\n",
        "El = 1.8 # Replace with the actual value of 'El'\n",
        "Zmax =El- Ec\n",
        "print (\"The value of maxinmum hump is:\", Zmax)"
      ],
      "cell_type": "code",
      "metadata": {
        "colab": {
          "base_uri": "https://localhost:8080/"
        },
        "id": "0Te1mY2c6aP0",
        "outputId": "d291f4ba-5a32-4e10-d973-e6b07c3b8eed"
      },
      "execution_count": null,
      "outputs": [
        {
          "output_type": "stream",
          "name": "stdout",
          "text": [
            "Enter the value of Discharge:4.84.8\n",
            "Enter the value of top width:22\n",
            "Enter the value of acceleration due to Gravity:9.819.81\n",
            "enter the value of upstream depth:1.61.6\n",
            "Enter the Value of hump:0.1 0.1\n",
            "The value of discharge per meter width is: 2.4\n",
            "The value of upstream area is: 3.2\n",
            "The value of Froude number is: 0.07167431192660548\n",
            "The flow is Sub Critical Flow\n",
            "The value of Energy at initial Section is: 1.714678899082569\n",
            "The value of downstream Energy E2 is: 1.614678899082569\n",
            "The Value of critical depth is: 1.3388268295597898\n",
            "The value of critical Energy is 2.0082402443396847\n",
            "Chocking Conditlon\n",
            "The value of maxinmum hump is: -0.2082402443396847\n"
          ]
        }
      ]
    },
    {
      "cell_type": "markdown",
      "source": [
        "Q1. A rectangular channel of width 2 m and carry a discharge of 4.8 m'/s with\n",
        "a depth of 1.6 m. At a certain section a small hump of size 0.l m is\n",
        "proposed to build."
      ],
      "metadata": {
        "id": "GTskUjPBHSVj"
      }
    },
    {
      "cell_type": "markdown",
      "source": [
        "2. A rectangular channel 3.5 m wide and conveys a discharge of 15 m's at\n",
        "a depth of 2 m. It is proposed to reduce the width of channel at a\n",
        "hydraulic structure location. Assuming the transition to be horizontal and\n",
        "flow to be frictionless. Determine the water surface elevation at upstream\n",
        "and downstream cf this constriction when the contracted width becomes 2.5 m."
      ],
      "metadata": {
        "id": "ZaNp_73THeJK"
      }
    },
    {
      "source": [
        "# To find the downstream depth of open channel\n",
        "# Given Data\n",
        "Q= float(input(\"Enter the value of Discharge:15\"))\n",
        "B1 = float(input(\"Enter the value of width at upstream:3.5 \"))\n",
        "B2 = float(input(\"Enter the value of width at downstream:2.5 \"))\n",
        "g= float(input(\"Enter the value of acceleration due to Gravity:9.81\"))\n",
        "yl= float(input(\"enter the value of upstream depth:2\"))\n",
        "# Dicharge per meter width\n",
        "ql=Q/B1\n",
        "q2= Q/B2\n",
        "print (\"The value of discharge per meter width is:'\", ql) # Changed q1 to ql\n",
        "print (\"The value of discharge per meter width is:\", q2)\n",
        "# Area Calculation\n",
        "A1 = B1*yl # Changed y1 to yl as y1 was not defined\n",
        "print (\"The value of upstream area is:\", A1)\n",
        "# Calculation of Froude Number\n",
        "Fr1 = ((Q*Q*B1)/(g*A1*A1*A1)) **0.5\n",
        "print (\"The value of Froude number is:\", Fr1)\n",
        "if Fr1>1:\n",
        "    print(\"The flow is Super Critical Flow\") # Indent this line to be part of the 'if' block\n",
        "else:\n",
        "    print(\"The flow is Sub Critical Flow\")\n",
        "# Upstream Energy\n",
        "e = 1.602e-19 # Define 'e' here or import it from a library if it represents a physical constant.\n",
        "E1 = yl + (Q*0)/(2*e*A1*A1) # Use 'yl' instead of 'y1' if it's a different variable.\n",
        "print (\"The value of Energy at initial Section is:\", E1) # Correct the variable name to 'E1'.\n",
        "# (type alias) B2min: Any dition  # Remove or comment out this invalid line.\n",
        "B2min = (27*Q*Q/(8*g*E1*E1*E1)) **0.5\n",
        "print (\"The value of minimum width to be kept to avoid Chocking is:\", B2min)\n",
        "if B2min > B2:\n",
        "    print (\"Chocking Condition\") # Indent this line\n",
        "else:\n",
        "    print (\"SAFE\") # Indent this line to be part of the 'else' block\n",
        "# Critical Depth\n",
        "e = 0.8 # Or any other relevant value\n",
        "yc = ((Q*Q)/(B2*B2*e)) **0.3333\n",
        "print (\"The Value of critical depth is: \", yc)\n",
        "Ec = 1.5*yc\n",
        "print (\"The value of critical Energy is\", Ec)"
      ],
      "cell_type": "code",
      "metadata": {
        "colab": {
          "base_uri": "https://localhost:8080/"
        },
        "id": "AreXW4LM9HQk",
        "outputId": "ce463dce-a156-41c3-a589-698f5d733e84"
      },
      "execution_count": null,
      "outputs": [
        {
          "output_type": "stream",
          "name": "stdout",
          "text": [
            "Enter the value of Discharge:1515\n",
            "Enter the value of width at upstream:3.5 3.5\n",
            "Enter the value of width at downstream:2.5 2.5\n",
            "Enter the value of acceleration due to Gravity:9.819.81\n",
            "enter the value of upstream depth:22\n",
            "The value of discharge per meter width is:' 4.285714285714286\n",
            "The value of discharge per meter width is: 6.0\n",
            "The value of upstream area is: 7.0\n",
            "The value of Froude number is: 0.4837753296275688\n",
            "The flow is Sub Critical Flow\n",
            "The value of Energy at initial Section is: 2.0\n",
            "The value of minimum width to be kept to avoid Chocking is: 3.110632107802487\n",
            "Chocking Condition\n",
            "The Value of critical depth is:  3.5564420033791078\n",
            "The value of critical Energy is 5.334663005068662\n"
          ]
        }
      ]
    },
    {
      "cell_type": "markdown",
      "source": [
        "3. Design a most efficient trapezoidal channel for conveying discharge of\n",
        "100 m '/s, given that rugosity coefficient is 0.015 and channel bed slope\n",
        "1:2500. Assume the freeboard of 10% of depth of flow. Also compute the\n",
        "Froude number"
      ],
      "metadata": {
        "id": "ux82-fhUIRMc"
      }
    },
    {
      "source": [
        "#Design of Efficient Channel Section\n",
        "Q= float(input(\"Enter the value of Discharge:100\"))\n",
        "n=float(input(\"Enter the value of Rugosity coefficient:0.015\"))\n",
        "So= float (input(\"Enter the value of bed slope:0.0004\"))\n",
        "g= float(input(\"Enter the value of acceleration due to Gravity:9.81\"))\n",
        "#Manning's Formula\n",
        "#Q = (AR^2/3 S^1/2)/n\n",
        "yn = (Q*n*50* 1.591)/(1.732) * (3/8)\n",
        "print (\"The Value of yn is\", yn)\n",
        "#To encounter the effect of free board\n",
        "yn1= 1.1*yn\n",
        "print (\"The Value of ynl is\", yn1)\n",
        "# Cross Sectional Area\n",
        "A = 1.732 * yn * yn1\n",
        "print (\"The cross sectional Area is:\", A)\n",
        "# Top Width\n",
        "T= 4* yn/1.732\n",
        "print (\"The value of top Width is:\", T)\n",
        "# Bottom Width\n",
        "B= 2 * yn/1.732\n",
        "print (\"The value of Bottom Width is'\", 8)\n",
        "Fr= ((Q*Q*T)/(g*A*A*A)) * 0.5 # Fixed the Fr calculation\n",
        "print (\"The value of Froude number is:\", Fr)\n",
        "if Fr>1:\n",
        "    print(\"The flow is Super Critical Flow\") # Indented this line\n",
        "else:\n",
        "    print(\"The flow is Sub Critical Flow\")"
      ],
      "cell_type": "code",
      "metadata": {
        "colab": {
          "base_uri": "https://localhost:8080/"
        },
        "id": "dd3zaLEi-gjs",
        "outputId": "fd7f1f9d-a25d-4a2f-a846-d0f473c21bb0"
      },
      "execution_count": null,
      "outputs": [
        {
          "output_type": "stream",
          "name": "stdout",
          "text": [
            "Enter the value of Discharge:100100\n",
            "Enter the value of Rugosity coefficient:0.0150.015\n",
            "Enter the value of bed slope:0.00040.0004\n",
            "Enter the value of acceleration due to Gravity:9.819.81\n",
            "The Value of yn is 25.83537817551963\n",
            "The Value of ynl is 28.418915993071593\n",
            "The cross sectional Area is: 1271.6576815774754\n",
            "The value of top Width is: 59.66600040535711\n",
            "The value of Bottom Width is' 8\n",
            "The value of Froude number is: 1.4788266440381834e-05\n",
            "The flow is Sub Critical Flow\n"
          ]
        }
      ]
    }
  ]
}