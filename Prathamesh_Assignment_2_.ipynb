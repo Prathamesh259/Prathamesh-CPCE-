{
  "nbformat": 4,
  "nbformat_minor": 0,
  "metadata": {
    "colab": {
      "provenance": [],
      "include_colab_link": true
    },
    "kernelspec": {
      "name": "python3",
      "display_name": "Python 3"
    },
    "language_info": {
      "name": "python"
    }
  },
  "cells": [
    {
      "cell_type": "markdown",
      "metadata": {
        "id": "view-in-github",
        "colab_type": "text"
      },
      "source": [
        "<a href=\"https://colab.research.google.com/github/Prathamesh259/Prathamesh259/blob/main/Prathamesh_Assignment_2_.ipynb\" target=\"_parent\"><img src=\"https://colab.research.google.com/assets/colab-badge.svg\" alt=\"Open In Colab\"/></a>"
      ]
    },
    {
      "cell_type": "markdown",
      "source": [
        "# Q1"
      ],
      "metadata": {
        "id": "26N4H-pWEiab"
      }
    },
    {
      "cell_type": "code",
      "execution_count": null,
      "metadata": {
        "colab": {
          "base_uri": "https://localhost:8080/"
        },
        "id": "K-eJc0faEWnS",
        "outputId": "3386b3d5-4aa3-495f-8d0c-63f9cdb06d70"
      },
      "outputs": [
        {
          "output_type": "stream",
          "name": "stdout",
          "text": [
            "Enter the value of initial Infiltration Rate:66\n",
            "Enter the value of Final infiltration Rate:1.21.2\n",
            "Enter the value of Time:88\n",
            "Enter the value of Decay Coefficient:0.8880.888\n",
            "The value of Total Infiltration is: 311.26126126126127\n"
          ]
        }
      ],
      "source": [
        "# Calculation of total Infiltration by Horton's Equation\n",
        "fo = float(input(\"Enter the value of initial Infiltration Rate:6\"))\n",
        "fc= float (input(\"Enter the value of Final infiltration Rate:1.2\"))\n",
        "t= int(input(\"Enter the value of Time:8\"))\n",
        "kh= float(input(\"Enter the value of Decay Coefficient:0.888\"))\n",
        "# The total Infiltration is given by:\n",
        "fc = 10  # Replace with actual value of fc\n",
        "fo = 20  # Replace with actual value of fo\n",
        "t = 30   # Replace with actual value of t\n",
        "Fp= fc * t + (fo -fc)/kh\n",
        "print (\"The value of Total Infiltration is:\", Fp)"
      ]
    },
    {
      "cell_type": "markdown",
      "source": [
        "# Q2"
      ],
      "metadata": {
        "id": "YP8NDtQ9Ewj-"
      }
    },
    {
      "cell_type": "code",
      "source": [
        "# Calculation of Mean precipitation by theissen's polygon Method\n",
        "# The value of precipitation at Each station is\n",
        "p1 = float(input(\"Enter the value of rainfall at Station 1:1.125\")) # Use float to handle decimal values\n",
        "p2 = float(input(\"Enter the value of rainfall at Station 2:2.175\"))\n",
        "p3 = float(input(\"Enter the value of rainfall at Station 3:3.225\"))\n",
        "p4 = float(input(\"Enter the value of rainfall at Station 4:4.275\"))\n",
        "p5 = float(input(\"Enter the value of rainfall at Station 5:5.325\"))\n",
        "#Area for each station\n",
        "A1= float(input(\"Enter the value of Catchment Area for raingauge station 1:25\")) # Change int to float to accept decimal values\n",
        "A2= float(input(\"Enter the value of Catchment Area for raingauge station 2:30\"))\n",
        "A3 = float(input(\"Enter the value of Catchment Area for raingauge station 3:30\"))\n",
        "A4= float(input(\"Enter the value of Catchment Area for raingauge station 4:10\"))\n",
        "A5= float(input(\"Enter the value of Catchment Area for raingauge station 5:5\"))\n",
        "The_total_catchment_area = A2 + A3 + A4 + A5\n",
        "print(\"The total catchment area is\", The_total_catchment_area)\n",
        "A=A1 + A2 + A3 + A4+ A5\n",
        "print (\"The value of Total Catchment area is:\", A)\n",
        "# Runoff Volume\n",
        "# The volume shall be multiplied by the coefficient 2500 to cater scale effects\n",
        "#Runoff Volume\n",
        "V= (p1* A1+ p2* A2+ p3* A3+ p4 *A4+p5* A5)*2500 # You had a typo here, Al should be A1\n",
        "print (\"The runoff volume from the given catchment is:\", V)\n",
        "# Mean Precipitation\n",
        "p = (p1 * A1 + p2 * A2 + p3 * A3 + p4 * A4 + p5 * A5) / A\n",
        "print (\"The value of Mean Precipitalon is:\", p)"
      ],
      "metadata": {
        "colab": {
          "base_uri": "https://localhost:8080/"
        },
        "id": "ZnhhisuEElzS",
        "outputId": "7783226f-0d87-4876-d2b0-a9053a7cf05a"
      },
      "execution_count": null,
      "outputs": [
        {
          "output_type": "stream",
          "name": "stdout",
          "text": [
            "Enter the value of rainfall at Station 1:1.1251.125\n",
            "Enter the value of rainfall at Station 2:2.1752.175\n",
            "Enter the value of rainfall at Station 3:3.2253.225\n",
            "Enter the value of rainfall at Station 4:4.2754.275\n",
            "Enter the value of rainfall at Station 5:5.3255.325\n",
            "Enter the value of Catchment Area for raingauge station 1:2525\n",
            "Enter the value of Catchment Area for raingauge station 2:3030\n",
            "Enter the value of Catchment Area for raingauge station 3:3030\n",
            "Enter the value of Catchment Area for raingauge station 4:1010\n",
            "Enter the value of Catchment Area for raingauge station 5:55\n",
            "The total catchment area is 75.0\n",
            "The value of Total Catchment area is: 100.0\n",
            "The runoff volume from the given catchment is: 648750.0\n",
            "The value of Mean Precipitalon is: 2.595\n"
          ]
        }
      ]
    },
    {
      "cell_type": "markdown",
      "source": [
        "# Q3"
      ],
      "metadata": {
        "id": "88tJUaHpGuDH"
      }
    },
    {
      "cell_type": "code",
      "source": [
        "#Calculation of Mean precipitation by Isohytel Method\n",
        "#The value of precipitation at Each station i\n",
        "p1=int(input(\"Enter the value of rainfall at Station 1:14\"))\n",
        "D2= int(input(\"Enter the value of rainfall at Station 2:12\"))\n",
        "D3=int(input(\"Enter the value of rainfall at Station 3:10\"))\n",
        "p4=int(input(\"Enter the value of rainfall at Station 4:8\"))\n",
        "p5= int(input(\"Enter the value of rainfall at Station 5:6\"))\n",
        "p6=int(input(\"Enter the value of rainfall at Station 6:4\"))\n",
        "p7= int(input(\"Enter the value of rainfall at Station 7:2\"))\n",
        "p8=int(input(\"Enter the value of rainfall at Station 8:0\"))\n",
        "# Area for each station\n",
        "A1= int(input(\"Enter the value of Catchment Area for raingage station 1:90\"))\n",
        "A2= int(input(\"Enter the value of Catchment Area for raingauge station 2:140\"))\n",
        "A3= int(input(\"Enter the value of Catchment Area for raingauge station 3:125\"))\n",
        "A4= int(input(\"Enter the value of Catchnent Area for reingauge station 4:140\"))\n",
        "A5= int(input(\" Enter the value of Catchment Ares for raingauge station 5:85\"))\n",
        "A6= int(input(\"Enter the value of Catchment Area for raingeuge station 6:40\"))\n",
        "A7= int(input(\"Enter the value of Catchment Area for reingauge station 7:20\"))\n",
        "# The total catchment area is\n",
        "A= A1+ A2+ A3+ A4+ A5+ A6+ A7\n",
        "print (\"The value of Total Catchment area is :\",A)\n",
        "# Mean Precipitation\n",
        "p=((p1+p2) *A1/2 + (p2+p3)*A2/2+ (p3+p4)*A3/2+ (p4+p5)* A4/2 + (p5+p6)*A5/2 + (p6+p7)*A6/2\n",
        "+ (p7+p8)*A7/2)/A\n",
        "print (\"the value of Mean Precipitalon is:\", p)"
      ],
      "metadata": {
        "colab": {
          "base_uri": "https://localhost:8080/"
        },
        "id": "zVLYw8HME8N-",
        "outputId": "ce6cdaa7-30bf-4b5f-b007-475d692edfe4"
      },
      "execution_count": null,
      "outputs": [
        {
          "output_type": "stream",
          "name": "stdout",
          "text": [
            "Enter the value of rainfall at Station 1:1414\n",
            "Enter the value of rainfall at Station 2:1212\n",
            "Enter the value of rainfall at Station 3:1010\n",
            "Enter the value of rainfall at Station 4:88\n",
            "Enter the value of rainfall at Station 5:66\n",
            "Enter the value of rainfall at Station 6:44\n",
            "Enter the value of rainfall at Station 7:22\n",
            "Enter the value of rainfall at Station 8:00\n",
            "Enter the value of Catchment Area for raingage station 1:9090\n",
            "Enter the value of Catchment Area for raingauge station 2:140140\n",
            "Enter the value of Catchment Area for raingauge station 3:125125\n",
            "Enter the value of Catchnent Area for reingauge station 4:140140\n",
            " Enter the value of Catchment Ares for raingauge station 5:8585\n",
            "Enter the value of Catchment Area for raingeuge station 6:4040\n",
            "Enter the value of Catchment Area for reingauge station 7:2020\n",
            "The value of Total Catchment area is : 640\n",
            "the value of Mean Precipitalon is: 5.23818359375\n"
          ]
        }
      ]
    }
  ]
}