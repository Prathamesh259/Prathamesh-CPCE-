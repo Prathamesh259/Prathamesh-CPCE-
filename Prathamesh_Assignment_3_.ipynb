{
  "nbformat": 4,
  "nbformat_minor": 0,
  "metadata": {
    "colab": {
      "provenance": [],
      "include_colab_link": true
    },
    "kernelspec": {
      "name": "python3",
      "display_name": "Python 3"
    },
    "language_info": {
      "name": "python"
    }
  },
  "cells": [
    {
      "cell_type": "markdown",
      "metadata": {
        "id": "view-in-github",
        "colab_type": "text"
      },
      "source": [
        "<a href=\"https://colab.research.google.com/github/Prathamesh259/Prathamesh259/blob/main/Prathamesh_Assignment_3_.ipynb\" target=\"_parent\"><img src=\"https://colab.research.google.com/assets/colab-badge.svg\" alt=\"Open In Colab\"/></a>"
      ]
    },
    {
      "cell_type": "markdown",
      "source": [
        "# Q1"
      ],
      "metadata": {
        "id": "MjBb6Sx6Kx6r"
      }
    },
    {
      "cell_type": "code",
      "execution_count": null,
      "metadata": {
        "colab": {
          "base_uri": "https://localhost:8080/"
        },
        "id": "QCfaXJnMJrt9",
        "outputId": "adeca621-cdad-406a-e313-48ded523b442"
      },
      "outputs": [
        {
          "output_type": "stream",
          "name": "stdout",
          "text": [
            "Enter the value of design speed:65 65\n",
            "Enter the value of Radius of curvature:220 220\n",
            "Enter the value of slope:150 150\n",
            "Enter the value of width of road including extra widening:7.5 7.5\n",
            "'enter the value for plain terain:0.07'0.07\n",
            "0.07\n",
            "The length of transition curve: 39.37500000000001\n"
          ]
        }
      ],
      "source": [
        "#To Calculate the length of transition curve\n",
        "V= int(input(\"Enter the value of design speed:65 \"))\n",
        "R= int(input(\"Enter the value of Radius of curvature:220 \"))\n",
        "N= int(input(\"Enter the value of slope:150 \"))\n",
        "W= float(input(\"Enter the value of width of road including extra widening:7.5 \"))\n",
        "emax=float(input(\"'enter the value for plain terain:0.07'\"))\n",
        "ecal= (V*V/(225*R))\n",
        "print(\"The value of Super elevation:\",ecal) if ecal<emax else print(emax)\n",
        "Ls=(emax*N*W/2)\n",
        "print(\"The length of transition curve:\", Ls)"
      ]
    },
    {
      "cell_type": "markdown",
      "source": [
        "# Q2"
      ],
      "metadata": {
        "id": "09anJV-MK1m8"
      }
    },
    {
      "cell_type": "code",
      "source": [
        "R = int(input(\" Constant R: \"))\n",
        "C = int (input (\" Constant C: \"))\n",
        "import numpy as geek\n",
        "A = int(input (\"Total Data Values for EWL Constant: \"))\n",
        "B = int(input (\"Total Data Values for AADT: \"))\n",
        "EWL_Constant = []\n",
        "AADT = []\n",
        "for i in range (1, A+1):\n",
        "    print (\"Enter EWL Constant:\") # Indent this line\n",
        "    A = float (input()) # Indent this line\n",
        "    EWL_Constant. append(A) # Indent this line\n",
        "for j in range (1, B+1): # Fix typo here: l -> 1\n",
        "    print (\"Enter AADT: \") # Indent this line\n",
        "    B = float (input ()) # Indent this line\n",
        "    AADT. append (B) # Indent this line\n",
        "product = geek. dot (EWL_Constant, AADT)\n",
        "# print(\" Dot Product # Remove or comment out this line\n",
        "Total_EWL = product # Fix variable name here: Total EWL -> Total_EWL\n",
        "print (\" Total EWL :\", Total_EWL)\n",
        "print (\"EWL after 60 years :\", Total_EWL*1.6)\n",
        "TI = 1.35*(((1.6* Total_EWL) + ((product) /2)) **0.11)\n",
        "print (\"Traffic Index : \", TI)\n",
        "Output = 0.166*TI* (99-R)/(C**0.2) # Assign the result to a variable named Output\n",
        "print (\"Pavement Thickness: \", Output, \"cm\") # Print the calculated output"
      ],
      "metadata": {
        "colab": {
          "base_uri": "https://localhost:8080/"
        },
        "id": "0EPRj4NaJ4l_",
        "outputId": "94cbd804-031b-43f4-d8a9-bbca58892723"
      },
      "execution_count": null,
      "outputs": [
        {
          "output_type": "stream",
          "name": "stdout",
          "text": [
            " Constant R: 48\n",
            " Constant C: 16\n",
            "Total Data Values for EWL Constant: 4\n",
            "Total Data Values for AADT: 4\n",
            "Enter EWL Constant:\n",
            "330\n",
            "Enter EWL Constant:\n",
            "1070\n",
            "Enter EWL Constant:\n",
            "2460\n",
            "Enter EWL Constant:\n",
            "4620\n",
            "Enter AADT: \n",
            "3750\n",
            "Enter AADT: \n",
            "470\n",
            "Enter AADT: \n",
            "320\n",
            "Enter AADT: \n",
            "120\n",
            " Total EWL : 3082000.0\n",
            "EWL after 60 years : 4931200.0\n",
            "Traffic Index :  7.577910657490486\n",
            "Pavement Thickness:  36.847136933326986 cm\n"
          ]
        }
      ]
    },
    {
      "cell_type": "markdown",
      "source": [
        "# Q3"
      ],
      "metadata": {
        "id": "OP8PQ2VCK3wk"
      }
    },
    {
      "cell_type": "code",
      "source": [
        "P = float(input(\" Load in kg: \")) # Assign the input value to P\n",
        "p = float(input (\" Tyre pressure kg/cm^2: \")) # Assign the input value to p\n",
        "M = int (input (\"Total Number of layers in a given Pavement : \"))\n",
        "pi = 3.14159\n",
        "\n",
        "CBR = []\n",
        "\n",
        "for i in range (1, M+1):\n",
        "    print (\"California Bearing Ratio of Material in %\")\n",
        "    CBR_value = float (input ())\n",
        "    T = ((1.75*P)/ (CBR_value) -(P/(p*pi)) ) **0.5 # Now P and p have valid float values\n",
        "    print (\"Thickness Above this layer: \", T, \"cm\")\n",
        "print (\"Given that bitumen layer of 4 cm\")"
      ],
      "metadata": {
        "colab": {
          "base_uri": "https://localhost:8080/"
        },
        "id": "TUglcBweKjhM",
        "outputId": "fa89e723-d94c-47aa-ffb2-65bf50e4959e"
      },
      "execution_count": null,
      "outputs": [
        {
          "output_type": "stream",
          "name": "stdout",
          "text": [
            " Load in kg: 4085\n",
            " Tyre pressure kg/cm^2: 7\n",
            "Total Number of layers in a given Pavement : 3\n",
            "California Bearing Ratio of Material in %\n",
            "6\n",
            "Thickness Above this layer:  31.712799015896838 cm\n",
            "California Bearing Ratio of Material in %\n",
            "12\n",
            "Thickness Above this layer:  20.247776538573337 cm\n",
            "California Bearing Ratio of Material in %\n",
            "4.38\n",
            "Thickness Above this layer:  38.031276487723645 cm\n",
            "Given that bitumen layer of 4 cm\n"
          ]
        }
      ]
    }
  ]
}